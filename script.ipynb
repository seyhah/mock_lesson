{
 "cells": [
  {
   "cell_type": "code",
   "execution_count": null,
   "id": "4720ce47",
   "metadata": {},
   "outputs": [],
   "source": [
    "!ollama list"
   ]
  },
  {
   "cell_type": "markdown",
   "id": "673cc769",
   "metadata": {},
   "source": [
    "Classify Comments with Ollama"
   ]
  },
  {
   "cell_type": "code",
   "execution_count": 3,
   "id": "60f8ab16",
   "metadata": {},
   "outputs": [
    {
     "name": "stdout",
     "output_type": "stream",
     "text": [
      "Saved sentiment_results.csv\n"
     ]
    }
   ],
   "source": [
    "import pandas as pd\n",
    "from ollama import chat\n",
    "\n",
    "df = pd.read_csv(\"comments.csv\")\n",
    "results = []\n",
    "\n",
    "for comment in df['comment']:\n",
    "    prompt = f\"Classify this customer comment as Positive, Negative, or Neutral:\\n\\n{comment}\"\n",
    "    resp = chat(model=\"gpt-oss:20b\", messages=[{\"role\": \"user\", \"content\": prompt}])\n",
    "    sentiment = resp['message']['content'].strip()\n",
    "    results.append({\"comment\": comment, \"sentiment\": sentiment})\n",
    "\n",
    "pd.DataFrame(results).to_csv(\"sentiment_results.csv\", index=False)\n",
    "print(\"Saved sentiment_results.csv\")\n"
   ]
  },
  {
   "cell_type": "markdown",
   "id": "7e460480",
   "metadata": {},
   "source": [
    "Plot the Sentiment Counts"
   ]
  },
  {
   "cell_type": "code",
   "execution_count": 4,
   "id": "e7274c2c",
   "metadata": {},
   "outputs": [
    {
     "data": {
      "image/png": "[encoded data removed]",
      "text/plain": [
       "<Figure size 640x480 with 1 Axes>"
      ]
     },
     "metadata": {},
     "output_type": "display_data"
    }
   ],
   "source": [
    "import pandas as pd\n",
    "import matplotlib.pyplot as plt\n",
    "\n",
    "df = pd.read_csv(\"sentiment_results.csv\")\n",
    "counts = df['sentiment'].value_counts()\n",
    "\n",
    "counts.plot(kind='bar', title='Customer Sentiment Distribution')\n",
    "plt.xlabel('Sentiment')\n",
    "plt.ylabel('Number of Comments')\n",
    "plt.tight_layout()\n",
    "plt.savefig('sentiment_bar.png')\n",
    "plt.show()\n"
   ]
  },
  {
   "cell_type": "markdown",
   "id": "175c0238",
   "metadata": {},
   "source": [
    "AI-Generated Summary"
   ]
  },
  {
   "cell_type": "code",
   "execution_count": 6,
   "id": "4e19b242",
   "metadata": {},
   "outputs": [
    {
     "name": "stdout",
     "output_type": "stream",
     "text": [
      "The sentiment analysis shows a clear tilt toward positivity, with 5 positive mentions compared to 3 negative and 2 neutral ones. Overall, the majority of responses are upbeat, indicating a generally favorable outlook. The relatively small number of negative comments suggests a largely positive reception, though a few concerns or criticisms are also present.\n"
     ]
    }
   ],
   "source": [
    "from ollama import chat\n",
    "summary_prompt = f\"Here is the sentiment count data: {counts.to_dict()}. Summarize it in 2-3 sentences.\"\n",
    "resp = chat(model=\"gpt-oss:20b\", messages=[{\"role\":\"user\",\"content\":summary_prompt}])\n",
    "print(resp['message']['content'])\n"
   ]
  },
  {
   "cell_type": "markdown",
   "id": "0a4a0cd6",
   "metadata": {},
   "source": [
    "Quarto Report"
   ]
  },
  {
   "cell_type": "code",
   "execution_count": 5,
   "id": "41ee8871",
   "metadata": {},
   "outputs": [
    {
     "ename": "SyntaxError",
     "evalue": "invalid syntax (858416061.py, line 1)",
     "output_type": "error",
     "traceback": [
      "  \u001b[36mCell\u001b[39m\u001b[36m \u001b[39m\u001b[32mIn[5]\u001b[39m\u001b[32m, line 1\u001b[39m\n\u001b[31m    \u001b[39m\u001b[31m---\u001b[39m\n       ^\n\u001b[31mSyntaxError\u001b[39m\u001b[31m:\u001b[39m invalid syntax\n"
     ]
    }
   ],
   "source": [
    "---\n",
    "title: \"Customer Sentiment Analysis\"\n",
    "format: html\n",
    "---\n",
    "\n",
    "## Sentiment Distribution\n",
    "\n",
    "```{python}\n",
    "import pandas as pd\n",
    "import matplotlib.pyplot as plt\n",
    "df = pd.read_csv(\"sentiment_results.csv\")\n",
    "counts = df['sentiment'].value_counts()\n",
    "counts.plot(kind='bar', title='Customer Sentiment Distribution')\n"
   ]
  }
 ],
 "metadata": {
  "kernelspec": {
   "display_name": "mock-lesson",
   "language": "python",
   "name": "python3"
  },
  "language_info": {
   "codemirror_mode": {
    "name": "ipython",
    "version": 3
   },
   "file_extension": ".py",
   "mimetype": "text/x-python",
   "name": "python",
   "nbconvert_exporter": "python",
   "pygments_lexer": "ipython3",
   "version": "3.13.5"
  }
 },
 "nbformat": 4,
 "nbformat_minor": 5
}
