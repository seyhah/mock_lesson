{
 "cells": [
  {
   "cell_type": "markdown",
   "id": "ba171d60",
   "metadata": {},
   "source": [
    "# Cambodia University of Technology and Science (CamTech)\n",
    "## Customer Comments Sentiment Analysis\n",
    "*By: Ven Seyhah, PhD*\n",
    "\n",
    "*Date: 19 Setember 2025*"
   ]
  },
  {
   "cell_type": "markdown",
   "id": "cc6c9695",
   "metadata": {},
   "source": [
    "This notebook analyzes customer comments using an AI model (`gpt-oss:20b` via Ollama).  \n",
    "The pipeline performs the following steps:\n",
    "\n",
    "1. Load raw comments data.  \n",
    "2. Run **sentiment classification** (Positive, Negative, Neutral).  \n",
    "3. Visualize the distribution of sentiments.  \n",
    "4. Generate an **AI-powered summary** of the results.  \n"
   ]
  },
  {
   "cell_type": "markdown",
   "id": "9e556658",
   "metadata": {
    "slideshow": {
     "slide_type": "slide"
    }
   },
   "source": [
    "## Step 1 — Import Libraries\n",
    "We begin by importing the required Python libraries.\n",
    "- **pandas** for handling and manipulating structured data (tables).\n",
    "- **matplotlib** for plotting and visualizing the results.  \n",
    "- **ollama** to connect and interact with the local AI model (gpt-oss:20b)."
   ]
  },
  {
   "cell_type": "code",
   "execution_count": null,
   "id": "ebabfc25",
   "metadata": {},
   "outputs": [],
   "source": [
    "import pandas as pd\n",
    "import matplotlib.pyplot as plt\n",
    "from ollama import chat"
   ]
  },
  {
   "cell_type": "markdown",
   "id": "dfc07c75",
   "metadata": {},
   "source": [
    "## Step 2 — Load Data\n",
    "We load customer comments stored in `comments.csv`. \n",
    "* Each row contains one comment.\n",
    "* df.head() displays the first few rows so we can confirm the data is loaded correctly."
   ]
  },
  {
   "cell_type": "code",
   "execution_count": null,
   "id": "5e22fdc8",
   "metadata": {},
   "outputs": [],
   "source": [
    "df = pd.read_csv(\"comments.csv\")\n",
    "df.head()"
   ]
  },
  {
   "cell_type": "markdown",
   "id": "6c6f01c1",
   "metadata": {},
   "source": [
    "## Step 3 — Sentiment Analysis with Ollama\n",
    "Here we run AI-powered sentiment analysis on each comment.\n",
    "\n",
    "### Explanation of the code:\n",
    "\n",
    "1. We loop through every comment in the dataset.\n",
    "2. For each comment, we create a prompt asking the AI model to classify it as Positive, Negative, or Neutral.\n",
    "3. The AI’s response is captured using chat().\n",
    "4. The classified sentiment is stored along with the original comment in a results list.\n",
    "5. We convert the results list into a DataFrame (sentiment_df) and save it to sentiment_results.csv for later use."
   ]
  },
  {
   "cell_type": "code",
   "execution_count": null,
   "id": "48f00b39",
   "metadata": {},
   "outputs": [],
   "source": [
    "results = []\n",
    "\n",
    "for comment in df['comment']:\n",
    "    prompt = f\"Classify this customer comment as Positive, Negative, or Neutral:\\n\\n{comment}\"\n",
    "    resp = chat(model=\"gpt-oss:20b\", messages=[{\"role\": \"user\", \"content\": prompt}])\n",
    "    sentiment = resp['message']['content'].strip()\n",
    "    results.append({\"comment\": comment, \"sentiment\": sentiment})\n",
    "\n",
    "sentiment_df = pd.DataFrame(results)\n",
    "sentiment_df.to_csv(\"sentiment_results.csv\", index=False)\n",
    "print(\"Saved sentiment_results.csv\")\n",
    "sentiment_df.head()"
   ]
  },
  {
   "cell_type": "markdown",
   "id": "b78bf3a3",
   "metadata": {},
   "source": [
    "## Step 4 — Reload Processed Sentiment Data\n",
    "We reload the processed results from sentiment_results.csv.\n",
    "This ensures we always work with the cleaned dataset (comment + sentiment).\n"
   ]
  },
  {
   "cell_type": "code",
   "execution_count": null,
   "id": "c8f20da0",
   "metadata": {},
   "outputs": [],
   "source": [
    "df = pd.read_csv(\"sentiment_results.csv\")\n",
    "df.head()"
   ]
  },
  {
   "cell_type": "markdown",
   "id": "c2766905",
   "metadata": {},
   "source": [
    "## Step 5 — Visualize Sentiment Distribution\n",
    "Now we visualize the sentiment breakdown using a bar chart.\n",
    "### Explanation of the code:\n",
    "1. value_counts() counts how many comments fall into each sentiment category.\n",
    "2. We create a bar chart with:\n",
    "    * Green → Positive\n",
    "    * Red → Negative\n",
    "    * Gray → Neutral\n",
    "3. Labels and titles are added to make the chart more readable."
   ]
  },
  {
   "cell_type": "code",
   "execution_count": null,
   "id": "6f07463a",
   "metadata": {},
   "outputs": [],
   "source": [
    "sentiment_counts = df['sentiment'].value_counts()\n",
    "\n",
    "plt.figure(figsize=(6,4))\n",
    "sentiment_counts.plot(kind='bar', color=['green','red','gray'])\n",
    "plt.title(\"Sentiment Distribution\")\n",
    "plt.xlabel(\"Sentiment\")\n",
    "plt.ylabel(\"Number of Comments\")\n",
    "plt.xticks(rotation=0)\n",
    "plt.tight_layout()\n",
    "plt.show()"
   ]
  },
  {
   "cell_type": "markdown",
   "id": "f29d4b35",
   "metadata": {},
   "source": [
    "## Step 6 — AI Summary of Sentiment Results\n",
    "We ask the AI model to generate a **short natural-language summary** of the sentiment analysis results.\n",
    "\n",
    "**Explanation of the code:**\n",
    "1.   We pass the sentiment counts as context to the model.\n",
    "2.   The model generates a summary describing the overall sentiment distribution\n",
    "3.   The result is printed for quick interpretation."
   ]
  },
  {
   "cell_type": "code",
   "execution_count": null,
   "id": "d3c38a40",
   "metadata": {},
   "outputs": [],
   "source": [
    "prompt = f\"\"\"\n",
    "Here are the sentiment counts from customer comments:\n",
    "{sentiment_counts.to_dict()}\n",
    "Write a short summary describing the results.\n",
    "\"\"\"\n",
    "\n",
    "response = chat(model=\"gpt-oss:20b\", messages=[{\"role\": \"user\", \"content\": prompt}])\n",
    "summary = response['message']['content']\n",
    "print(summary)"
   ]
  },
  {
   "cell_type": "markdown",
   "id": "e9684242",
   "metadata": {},
   "source": [
    "## Conclusion\n",
    "\n",
    "This analysis demonstrates how **AI + Python + Quarto** can be combined to:\n",
    "\n",
    "-    Automate **text classification** (sentiment detection).\n",
    "\n",
    "-    Generate **visual summaries** using charts.\n",
    "\n",
    "-    Provide **natural-language insights** with AI.\n",
    "\n",
    "Such a workflow can be applied to any text-based dataset (e.g., surveys, feedback, reviews) to quickly extract **actionable business intelligence**.\n",
    "\n",
    "This workflow can be used to automate the production of reports periodically with a click."
   ]
  }
 ],
 "metadata": {
  "kernelspec": {
   "display_name": "mock-lesson",
   "language": "python",
   "name": "python3"
  },
  "language_info": {
   "name": "python",
   "version": "3.13.5"
  }
 },
 "nbformat": 4,
 "nbformat_minor": 5
}
