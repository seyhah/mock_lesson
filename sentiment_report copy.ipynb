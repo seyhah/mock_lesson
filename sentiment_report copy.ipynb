{
 "cells": [
  {
   "cell_type": "code",
   "execution_count": null,
   "id": "15cd6ffc",
   "metadata": {},
   "outputs": [],
   "source": [
    "# ─────────────────────────────\n",
    "# 📌 Cell 1 — Notebook Metadata\n",
    "# ─────────────────────────────\n",
    "# Put this YAML in a markdown cell at the very top:\n",
    "\n",
    "\"\"\"\n",
    "---\n",
    "title: \"Customer Sentiment Analysis\"\n",
    "author: \"Your Name\"\n",
    "format: html\n",
    "execute:\n",
    "  echo: false\n",
    "  warning: false\n",
    "  message: false\n",
    "---\n",
    "\"\"\"\n"
   ]
  },
  {
   "cell_type": "code",
   "execution_count": null,
   "id": "fbe5c6eb",
   "metadata": {},
   "outputs": [],
   "source": [
    "!ollama list"
   ]
  },
  {
   "cell_type": "markdown",
   "id": "422847e1",
   "metadata": {},
   "source": [
    "Using gpt-oss:20b to conduct sentiment analysis."
   ]
  },
  {
   "cell_type": "code",
   "execution_count": null,
   "id": "bc1c3be4",
   "metadata": {},
   "outputs": [],
   "source": [
    "import pandas as pd\n",
    "from ollama import chat\n",
    "\n",
    "df = pd.read_csv(\"comments.csv\")\n",
    "results = []\n",
    "\n",
    "for comment in df['comment']:\n",
    "    prompt = f\"Classify this customer comment as Positive, Negative, or Neutral:\\n\\n{comment}\"\n",
    "    resp = chat(model=\"gpt-oss:20b\", messages=[{\"role\": \"user\", \"content\": prompt}])\n",
    "    sentiment = resp['message']['content'].strip()\n",
    "    results.append({\"comment\": comment, \"sentiment\": sentiment})\n",
    "\n",
    "pd.DataFrame(results).to_csv(\"sentiment_results.csv\", index=False)\n",
    "print(\"Saved sentiment_results.csv\")\n"
   ]
  },
  {
   "cell_type": "markdown",
   "id": "f6f61753",
   "metadata": {},
   "source": [
    "📝 Intro (Markdown)"
   ]
  },
  {
   "cell_type": "code",
   "execution_count": null,
   "id": "1bb605f5",
   "metadata": {},
   "outputs": [],
   "source": [
    "# Sentiment Clustering Overview\n",
    "\n",
    "This report presents an analysis of customer comments grouped by sentiment (Positive, Neutral, Negative).  \n",
    "The data was clustered using an ai model."
   ]
  },
  {
   "cell_type": "markdown",
   "id": "381e7899",
   "metadata": {},
   "source": [
    "### Step 1: Import Libraries\n",
    "Here we import pandas and matplotlib, which are essential for data handling and visualization.\n"
   ]
  },
  {
   "cell_type": "code",
   "execution_count": null,
   "id": "41fa23cf",
   "metadata": {},
   "outputs": [],
   "source": [
    "# ─────────────────────────────\n",
    "# 📌 Cell 2 — Load Data\n",
    "# ─────────────────────────────\n",
    "import pandas as pd\n",
    "\n",
    "df = pd.read_csv(\"sentiment_results.csv\")\n",
    "df.head()\n"
   ]
  },
  {
   "cell_type": "code",
   "execution_count": null,
   "id": "44d1d28b",
   "metadata": {},
   "outputs": [],
   "source": [
    "# ─────────────────────────────\n",
    "# 📌 Cell 3 — Plot Sentiment Counts\n",
    "# ─────────────────────────────\n",
    "import matplotlib.pyplot as plt\n",
    "\n",
    "sentiment_counts = df['sentiment'].value_counts()\n",
    "\n",
    "plt.figure(figsize=(6,4))\n",
    "sentiment_counts.plot(kind='bar', color=['green','red','gray'])\n",
    "plt.title(\"Sentiment Distribution\")\n",
    "plt.xlabel(\"Sentiment\")\n",
    "plt.ylabel(\"Number of Comments\")\n",
    "plt.xticks(rotation=0)\n",
    "plt.tight_layout()\n",
    "plt.show()\n"
   ]
  },
  {
   "cell_type": "code",
   "execution_count": null,
   "id": "2d7ea64a",
   "metadata": {},
   "outputs": [],
   "source": [
    "# ─────────────────────────────\n",
    "# 📌 Cell 4 — Summarize Using Ollama\n",
    "# ─────────────────────────────\n",
    "from ollama import chat\n",
    "\n",
    "prompt = f\"\"\"\n",
    "Here are the sentiment counts from customer comments:\n",
    "\n",
    "{sentiment_counts.to_dict()}\n",
    "\n",
    "Write a short summary describing the results.\n",
    "\"\"\"\n",
    "\n",
    "response = chat(model=\"gpt-oss:20b\", messages=[{\"role\": \"user\", \"content\": prompt}])\n",
    "summary = response['message']['content']\n",
    "print(summary)\n"
   ]
  }
 ],
 "metadata": {
  "kernelspec": {
   "display_name": "mock-lesson",
   "language": "python",
   "name": "python3"
  },
  "language_info": {
   "codemirror_mode": {
    "name": "ipython",
    "version": 3
   },
   "file_extension": ".py",
   "mimetype": "text/x-python",
   "name": "python",
   "nbconvert_exporter": "python",
   "pygments_lexer": "ipython3",
   "version": "3.13.5"
  }
 },
 "nbformat": 4,
 "nbformat_minor": 5
}
