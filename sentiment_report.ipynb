{
 "cells": [
  {
   "cell_type": "markdown",
   "id": "f2407da1",
   "metadata": {},
   "source": [
    "Data analysis uing AI model: gpt-oss"
   ]
  },
  {
   "cell_type": "markdown",
   "id": "d5760e66",
   "metadata": {},
   "source": [
    "list the available ollama and runs its server"
   ]
  },
  {
   "cell_type": "code",
   "execution_count": null,
   "id": "fbe5c6eb",
   "metadata": {},
   "outputs": [],
   "source": [
    "!ollama list"
   ]
  },
  {
   "cell_type": "markdown",
   "id": "4fc6cbcf",
   "metadata": {},
   "source": [
    "# import the require libraries"
   ]
  },
  {
   "cell_type": "code",
   "execution_count": null,
   "id": "6dddd808",
   "metadata": {},
   "outputs": [],
   "source": [
    "import pandas as pd\n",
    "from ollama import chat"
   ]
  },
  {
   "cell_type": "markdown",
   "id": "4c6815ca",
   "metadata": {},
   "source": [
    "# Loading the data of comments (raw text)"
   ]
  },
  {
   "cell_type": "code",
   "execution_count": null,
   "id": "f8c6cb0e",
   "metadata": {},
   "outputs": [],
   "source": [
    "df = pd.read_csv(\"comments.csv\")\n",
    "df.head()\n"
   ]
  },
  {
   "cell_type": "markdown",
   "id": "422847e1",
   "metadata": {},
   "source": [
    "Using gpt-oss:20b to conduct sentiment analysis."
   ]
  },
  {
   "cell_type": "code",
   "execution_count": null,
   "id": "bc1c3be4",
   "metadata": {},
   "outputs": [],
   "source": [
    "results = []\n",
    "\n",
    "for comment in df['comment']:\n",
    "    prompt = f\"Classify this customer comment as Positive, Negative, or Neutral:\\n\\n{comment}\"\n",
    "    resp = chat(model=\"gpt-oss:20b\", messages=[{\"role\": \"user\", \"content\": prompt}])\n",
    "    sentiment = resp['message']['content'].strip()\n",
    "    results.append({\"comment\": comment, \"sentiment\": sentiment})\n",
    "\n",
    "pd.DataFrame(results).to_csv(\"sentiment_results.csv\", index=False)\n",
    "print(\"Saved sentiment_results.csv\")\n"
   ]
  },
  {
   "cell_type": "markdown",
   "id": "381e7899",
   "metadata": {},
   "source": [
    "### Step 1: Import Libraries\n",
    "Here we import pandas and matplotlib, which are essential for data handling and visualization.\n"
   ]
  },
  {
   "cell_type": "code",
   "execution_count": null,
   "id": "41fa23cf",
   "metadata": {},
   "outputs": [],
   "source": [
    "# ─────────────────────────────\n",
    "# 📌 Cell 2 — Load Data sentiment results\n",
    "# ─────────────────────────────\n",
    "\n",
    "df = pd.read_csv(\"sentiment_results.csv\")\n",
    "df.head()\n"
   ]
  },
  {
   "cell_type": "code",
   "execution_count": null,
   "id": "44d1d28b",
   "metadata": {},
   "outputs": [],
   "source": [
    "# ─────────────────────────────\n",
    "# 📌 Cell 3 — Plot Sentiment Counts\n",
    "# ─────────────────────────────\n",
    "import matplotlib.pyplot as plt\n",
    "\n",
    "sentiment_counts = df['sentiment'].value_counts()\n",
    "\n",
    "plt.figure(figsize=(6,4))\n",
    "sentiment_counts.plot(kind='bar', color=['green','red','gray'])\n",
    "plt.title(\"Sentiment Distribution\")\n",
    "plt.xlabel(\"Sentiment\")\n",
    "plt.ylabel(\"Number of Comments\")\n",
    "plt.xticks(rotation=0)\n",
    "plt.tight_layout()\n",
    "plt.show()\n"
   ]
  },
  {
   "cell_type": "markdown",
   "id": "57b4e59d",
   "metadata": {},
   "source": [
    "Summarize Using Ollama"
   ]
  },
  {
   "cell_type": "code",
   "execution_count": null,
   "id": "2d7ea64a",
   "metadata": {},
   "outputs": [],
   "source": [
    "# ─────────────────────────────\n",
    "# 📌 Cell 4 — Summarize Using Ollama\n",
    "# ─────────────────────────────\n",
    "from ollama import chat\n",
    "\n",
    "prompt = f\"\"\"\n",
    "Here are the sentiment counts from customer comments:\n",
    "\n",
    "{sentiment_counts.to_dict()}\n",
    "\n",
    "Write a short summary describing the results.\n",
    "\"\"\"\n",
    "\n",
    "response = chat(model=\"gpt-oss:20b\", messages=[{\"role\": \"user\", \"content\": prompt}])\n",
    "summary = response['message']['content']\n",
    "print(summary)\n"
   ]
  },
  {
   "cell_type": "markdown",
   "id": "8085446f",
   "metadata": {},
   "source": [
    "# reporting using quarto"
   ]
  }
 ],
 "metadata": {
  "kernelspec": {
   "display_name": "mock-lesson",
   "language": "python",
   "name": "python3"
  },
  "language_info": {
   "codemirror_mode": {
    "name": "ipython",
    "version": 3
   },
   "file_extension": ".py",
   "mimetype": "text/x-python",
   "name": "python",
   "nbconvert_exporter": "python",
   "pygments_lexer": "ipython3",
   "version": "3.13.5"
  }
 },
 "nbformat": 4,
 "nbformat_minor": 5
}
