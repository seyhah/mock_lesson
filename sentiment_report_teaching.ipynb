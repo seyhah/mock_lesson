{
 "cells": [
  {
   "cell_type": "markdown",
   "id": "2f7bb947",
   "metadata": {},
   "source": [
    "This notebook performs sentiment analysis on customer comments, clusters results, and summarizes findings using AI.”"
   ]
  },
  {
   "cell_type": "markdown",
   "id": "360dc2f0",
   "metadata": {},
   "source": [
    "### Importing Libraries and Loading Data\n",
    "Here, we import essential libraries:\n",
    "- **pandas** for data manipulation and analysis.  \n",
    "- **ollama.chat** to interact with a local large language model (LLM).  \n",
    "\n",
    "We then load the dataset `comments.csv` containing customer comments into a DataFrame and initialize a list `results` to store model outputs."
   ]
  },
  {
   "cell_type": "code",
   "execution_count": null,
   "id": "41fa23cf",
   "metadata": {},
   "outputs": [],
   "source": [
    "# ─────────────────────────────\n",
    "# 📌 Cell 2 — Load Data\n",
    "# ─────────────────────────────\n",
    "import pandas as pd\n",
    "\n",
    "df = pd.read_csv(\"sentiment_results.csv\")\n",
    "df.head()\n"
   ]
  },
  {
   "cell_type": "markdown",
   "id": "3f6e12e0",
   "metadata": {},
   "source": [
    "### Sentiment Clustering Overview\n",
    "This Markdown explanation introduces the purpose of the report: analyzing customer comments and grouping them by sentiment (Positive, Neutral, Negative). It also clarifies that clustering is done using an AI model."
   ]
  },
  {
   "cell_type": "code",
   "execution_count": null,
   "id": "2d7ea64a",
   "metadata": {},
   "outputs": [],
   "source": [
    "# ─────────────────────────────\n",
    "# 📌 Cell 4 — Summarize Using Ollama\n",
    "# ─────────────────────────────\n",
    "from ollama import chat\n",
    "\n",
    "prompt = f\"\"\"\n",
    "Here are the sentiment counts from customer comments:\n",
    "\n",
    "{sentiment_counts.to_dict()}\n",
    "\n",
    "Write a short summary describing the results.\n",
    "\"\"\"\n",
    "\n",
    "response = chat(model=\"gpt-oss:20b\", messages=[{\"role\": \"user\", \"content\": prompt}])\n",
    "summary = response['message']['content']\n",
    "print(summary)\n"
   ]
  }
 ],
 "metadata": {
  "kernelspec": {
   "display_name": "mock-lesson",
   "language": "python",
   "name": "python3"
  },
  "language_info": {
   "codemirror_mode": {
    "name": "ipython",
    "version": 3
   },
   "file_extension": ".py",
   "mimetype": "text/x-python",
   "name": "python",
   "nbconvert_exporter": "python",
   "pygments_lexer": "ipython3",
   "version": "3.13.5"
  }
 },
 "nbformat": 4,
 "nbformat_minor": 5
}
