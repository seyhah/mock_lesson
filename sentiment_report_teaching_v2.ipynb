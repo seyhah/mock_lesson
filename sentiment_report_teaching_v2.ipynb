{
 "cells": [
  {
   "cell_type": "markdown",
   "id": "52ecc78e",
   "metadata": {},
   "source": [
    "This notebook performs sentiment analysis on customer comments, clusters results, and summarizes findings using AI.”"
   ]
  },
  {
   "cell_type": "markdown",
   "id": "f6f61753",
   "metadata": {},
   "source": [
    "📝 Intro (Markdown)"
   ]
  },
  {
   "cell_type": "markdown",
   "id": "04db4b88",
   "metadata": {},
   "source": [
    "### Importing Libraries and Loading Data\n",
    "Here we prepare our environment for analysis.  \n",
    "- **pandas** → used for loading and manipulating tabular data.  \n",
    "- **ollama.chat** → allows interaction with a local large language model (LLM).  \n",
    "- **df = pd.read_csv(\"comments.csv\")** → loads the dataset of customer comments into a DataFrame.  \n",
    "- **results = []** → initializes an empty list to store model outputs (such as sentiment results)."
   ]
  },
  {
   "cell_type": "code",
   "execution_count": null,
   "id": "41fa23cf",
   "metadata": {},
   "outputs": [],
   "source": [
    "# ─────────────────────────────\n",
    "# 📌 Cell 2 — Load Data\n",
    "# ─────────────────────────────\n",
    "import pandas as pd\n",
    "\n",
    "df = pd.read_csv(\"sentiment_results.csv\")\n",
    "df.head()\n"
   ]
  },
  {
   "cell_type": "code",
   "execution_count": null,
   "id": "44d1d28b",
   "metadata": {},
   "outputs": [],
   "source": [
    "# ─────────────────────────────\n",
    "# 📌 Cell 3 — Plot Sentiment Counts\n",
    "# ─────────────────────────────\n",
    "import matplotlib.pyplot as plt\n",
    "\n",
    "sentiment_counts = df['sentiment'].value_counts()\n",
    "\n",
    "plt.figure(figsize=(6,4))\n",
    "sentiment_counts.plot(kind='bar', color=['green','red','gray'])\n",
    "plt.title(\"Sentiment Distribution\")\n",
    "plt.xlabel(\"Sentiment\")\n",
    "plt.ylabel(\"Number of Comments\")\n",
    "plt.xticks(rotation=0)\n",
    "plt.tight_layout()\n",
    "plt.show()\n"
   ]
  },
  {
   "cell_type": "markdown",
   "id": "2c070542",
   "metadata": {},
   "source": [
    "### Sentiment Clustering Overview\n",
    "This explanatory section introduces the purpose of the notebook:  \n",
    "- Analyzing customer comments.  \n",
    "- Grouping them by sentiment categories (Positive, Neutral, Negative).  \n",
    "- Explaining that clustering is performed using an AI model (gpt-oss:20b).  \n",
    "**Key purpose:** Gives readers context before diving into the analysis."
   ]
  },
  {
   "cell_type": "code",
   "execution_count": null,
   "id": "2d7ea64a",
   "metadata": {},
   "outputs": [],
   "source": [
    "# ─────────────────────────────\n",
    "# 📌 Cell 4 — Summarize Using Ollama\n",
    "# ─────────────────────────────\n",
    "from ollama import chat\n",
    "\n",
    "prompt = f\"\"\"\n",
    "Here are the sentiment counts from customer comments:\n",
    "\n",
    "{sentiment_counts.to_dict()}\n",
    "\n",
    "Write a short summary describing the results.\n",
    "\"\"\"\n",
    "\n",
    "response = chat(model=\"gpt-oss:20b\", messages=[{\"role\": \"user\", \"content\": prompt}])\n",
    "summary = response['message']['content']\n",
    "print(summary)\n"
   ]
  }
 ],
 "metadata": {
  "kernelspec": {
   "display_name": "mock-lesson",
   "language": "python",
   "name": "python3"
  },
  "language_info": {
   "codemirror_mode": {
    "name": "ipython",
    "version": 3
   },
   "file_extension": ".py",
   "mimetype": "text/x-python",
   "name": "python",
   "nbconvert_exporter": "python",
   "pygments_lexer": "ipython3",
   "version": "3.13.5"
  }
 },
 "nbformat": 4,
 "nbformat_minor": 5
}
